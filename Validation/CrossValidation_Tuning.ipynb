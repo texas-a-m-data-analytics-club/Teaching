{
  "nbformat": 4,
  "nbformat_minor": 0,
  "metadata": {
    "colab": {
      "name": "CrossValidation_Tuning.ipynb",
      "provenance": []
    },
    "kernelspec": {
      "name": "python3",
      "display_name": "Python 3"
    }
  },
  "cells": [
    {
      "cell_type": "markdown",
      "metadata": {
        "id": "QEKnQGdiJzBY",
        "colab_type": "text"
      },
      "source": [
        "# **Logistic Regression Classifier on Wisconsin Breast Cancer Dataset**"
      ]
    },
    {
      "cell_type": "code",
      "metadata": {
        "id": "q14pOenMJxgO",
        "colab_type": "code",
        "colab": {}
      },
      "source": [
        "import numpy as np\n",
        "import pandas as pd \n",
        "import matplotlib.pyplot as plt \n",
        "import seaborn as sns"
      ],
      "execution_count": 0,
      "outputs": []
    },
    {
      "cell_type": "code",
      "metadata": {
        "id": "6sFTAg4rUqhE",
        "colab_type": "code",
        "colab": {}
      },
      "source": [
        "data = pd.read_csv(\"Breast_Cancer.csv\",header=0)"
      ],
      "execution_count": 0,
      "outputs": []
    },
    {
      "cell_type": "code",
      "metadata": {
        "id": "VlWvR-ckUskj",
        "colab_type": "code",
        "colab": {}
      },
      "source": [
        "data.head(10)"
      ],
      "execution_count": 0,
      "outputs": []
    },
    {
      "cell_type": "markdown",
      "metadata": {
        "id": "vuR74aS0Y1hu",
        "colab_type": "text"
      },
      "source": [
        "# **We wish to predict the diagonsis, get rid of unnamed and id columns**"
      ]
    },
    {
      "cell_type": "code",
      "metadata": {
        "id": "sQw9tEDBUu4p",
        "colab_type": "code",
        "colab": {}
      },
      "source": [
        "data.drop(\"Unnamed: 32\",axis=1,inplace=True)\n",
        "data.drop(\"id\",axis=1,inplace=True)"
      ],
      "execution_count": 0,
      "outputs": []
    },
    {
      "cell_type": "markdown",
      "metadata": {
        "id": "CU4dqLBqveyg",
        "colab_type": "text"
      },
      "source": [
        "#**Check if we have missing data**"
      ]
    },
    {
      "cell_type": "code",
      "metadata": {
        "id": "n2ImiLexvrEy",
        "colab_type": "code",
        "colab": {}
      },
      "source": [
        "Missing_data=data.isna().sum()\n",
        "Missing_data=Missing_data.to_frame()\n",
        "Missing_data.columns=['Missing Values']\n",
        "Missing_data.sort_values(by='Missing Values',ascending=False)"
      ],
      "execution_count": 0,
      "outputs": []
    },
    {
      "cell_type": "markdown",
      "metadata": {
        "id": "Jf0k-vnDB83P",
        "colab_type": "text"
      },
      "source": [
        "#**Convert Malignant Class 'M' to 1 and Benign Class 'B' to 0**\n",
        "#**Visualize the class Distributions**"
      ]
    },
    {
      "cell_type": "code",
      "metadata": {
        "id": "NCWKbcRXUzb9",
        "colab_type": "code",
        "colab": {}
      },
      "source": [
        "data['diagnosis']=data['diagnosis'].map({'M':1,'B':0})\n",
        "Output = data['diagnosis']\n"
      ],
      "execution_count": 0,
      "outputs": []
    },
    {
      "cell_type": "code",
      "metadata": {
        "id": "qNp52xlOvzvm",
        "colab_type": "code",
        "colab": {}
      },
      "source": [
        "plt.figure(figsize=(12,4), dpi=100)\n",
        "sns.countplot(data['diagnosis'],label=\"Count\")\n"
      ],
      "execution_count": 0,
      "outputs": []
    },
    {
      "cell_type": "code",
      "metadata": {
        "id": "laNceZD5U2nP",
        "colab_type": "code",
        "colab": {}
      },
      "source": [
        "data.drop(\"diagnosis\",axis=1,inplace=True)\n"
      ],
      "execution_count": 0,
      "outputs": []
    },
    {
      "cell_type": "code",
      "metadata": {
        "id": "PY-b02RZU-Wi",
        "colab_type": "code",
        "colab": {}
      },
      "source": [
        "from sklearn.model_selection import train_test_split\n",
        "X_train, X_test, Y_train, Y_test = train_test_split(data,Output,test_size=0.25,random_state=2)"
      ],
      "execution_count": 0,
      "outputs": []
    },
    {
      "cell_type": "code",
      "metadata": {
        "id": "yYDzt6gCVBLP",
        "colab_type": "code",
        "colab": {}
      },
      "source": [
        "print(X_train.shape)\n",
        "print(X_test.shape)"
      ],
      "execution_count": 0,
      "outputs": []
    },
    {
      "cell_type": "markdown",
      "metadata": {
        "id": "8B3gLIAKFYLO",
        "colab_type": "text"
      },
      "source": [
        "#**Always scale the data for modles that calculate weights**"
      ]
    },
    {
      "cell_type": "code",
      "metadata": {
        "id": "iPkkMnS8VD6i",
        "colab_type": "code",
        "colab": {}
      },
      "source": [
        "from sklearn.preprocessing import StandardScaler\n",
        "sc = StandardScaler()\n",
        "X_train = sc.fit_transform(X_train)\n",
        "X_test = sc.transform(X_test)"
      ],
      "execution_count": 0,
      "outputs": []
    },
    {
      "cell_type": "code",
      "metadata": {
        "id": "49qwFGxkVKG4",
        "colab_type": "code",
        "colab": {}
      },
      "source": [
        "from sklearn.linear_model import LogisticRegression\n",
        "from sklearn.metrics import confusion_matrix\n",
        "from sklearn import metrics\n"
      ],
      "execution_count": 0,
      "outputs": []
    },
    {
      "cell_type": "markdown",
      "metadata": {
        "id": "IdZjaDydBvLN",
        "colab_type": "text"
      },
      "source": [
        "## **Train Logistic Regression Model**"
      ]
    },
    {
      "cell_type": "code",
      "metadata": {
        "id": "8DMQnnCKFl4-",
        "colab_type": "code",
        "colab": {}
      },
      "source": [
        "model_logit= LogisticRegression(solver='liblinear',max_iter=5000,random_state=2)\n"
      ],
      "execution_count": 0,
      "outputs": []
    },
    {
      "cell_type": "code",
      "metadata": {
        "id": "IVVd-5cuFn6X",
        "colab_type": "code",
        "colab": {}
      },
      "source": [
        "model_logit.fit(X_train,Y_train)\n"
      ],
      "execution_count": 0,
      "outputs": []
    },
    {
      "cell_type": "code",
      "metadata": {
        "id": "0FFgdlUWFpcd",
        "colab_type": "code",
        "colab": {}
      },
      "source": [
        "prediction_logit_train=model_logit.predict(X_train)"
      ],
      "execution_count": 0,
      "outputs": []
    },
    {
      "cell_type": "markdown",
      "metadata": {
        "id": "XB20zE1DKkE6",
        "colab_type": "text"
      },
      "source": [
        "#**Get training accuracy**"
      ]
    },
    {
      "cell_type": "code",
      "metadata": {
        "id": "NaXz9B-QVTJB",
        "colab_type": "code",
        "colab": {}
      },
      "source": [
        "metrics.accuracy_score(prediction_logit_train,Y_train)\n"
      ],
      "execution_count": 0,
      "outputs": []
    },
    {
      "cell_type": "code",
      "metadata": {
        "id": "C4V0WRelVOY-",
        "colab_type": "code",
        "colab": {}
      },
      "source": [
        "cm_train=confusion_matrix(Y_train, prediction_logit_train)\n",
        "cm_train"
      ],
      "execution_count": 0,
      "outputs": []
    },
    {
      "cell_type": "markdown",
      "metadata": {
        "id": "rlxik0WbQjpO",
        "colab_type": "text"
      },
      "source": [
        "# **Cross Validation**"
      ]
    },
    {
      "cell_type": "code",
      "metadata": {
        "id": "eQC6pf2dNUUE",
        "colab_type": "code",
        "colab": {}
      },
      "source": [
        "from sklearn.model_selection import cross_val_score\n",
        "accu_logit=cross_val_score(estimator=model_logit,X=X_train,y=Y_train,cv=10)\n",
        "print(\"The mean accuracy is:\", accu_logit.mean())\n",
        "print(\"The standard deviation of the accuracy is:\", accu_logit.std())"
      ],
      "execution_count": 0,
      "outputs": []
    },
    {
      "cell_type": "markdown",
      "metadata": {
        "id": "HJCxu6O3KrGF",
        "colab_type": "text"
      },
      "source": [
        "# **Get Testing Accuracy**"
      ]
    },
    {
      "cell_type": "markdown",
      "metadata": {
        "id": "Kcq9oo5Hu6MN",
        "colab_type": "text"
      },
      "source": [
        "#**Get the testing confusion matrix**"
      ]
    },
    {
      "cell_type": "code",
      "metadata": {
        "id": "DZEucwxQVa9W",
        "colab_type": "code",
        "colab": {}
      },
      "source": [
        "prediction_logit=model_logit.predict(X_test)\n",
        "cm_test=confusion_matrix(Y_test, prediction_logit)"
      ],
      "execution_count": 0,
      "outputs": []
    },
    {
      "cell_type": "code",
      "metadata": {
        "id": "TMFTNMLpJ_nq",
        "colab_type": "code",
        "colab": {}
      },
      "source": [
        "metrics.accuracy_score(prediction_logit,Y_test)\n"
      ],
      "execution_count": 0,
      "outputs": []
    },
    {
      "cell_type": "markdown",
      "metadata": {
        "id": "T5T1m-wpRHRA",
        "colab_type": "text"
      },
      "source": [
        "# **Let's tune the C parameter in logistic regression. Lower values represent strong regularization and higher values for low regularization. C=1 by default in the logistic regression** "
      ]
    },
    {
      "cell_type": "code",
      "metadata": {
        "id": "eyrVRwFuRy0i",
        "colab_type": "code",
        "colab": {}
      },
      "source": [
        "from sklearn.model_selection import GridSearchCV\n"
      ],
      "execution_count": 0,
      "outputs": []
    },
    {
      "cell_type": "code",
      "metadata": {
        "id": "vd_U662xSAO-",
        "colab_type": "code",
        "colab": {}
      },
      "source": [
        "parameters_logit= [{'C':[0.01,0.1,0.2,0.5,1,10],'solver':['liblinear','saga','lbfgs']} ]\n"
      ],
      "execution_count": 0,
      "outputs": []
    },
    {
      "cell_type": "code",
      "metadata": {
        "id": "8WMJYvhMSBnM",
        "colab_type": "code",
        "colab": {}
      },
      "source": [
        "grid_search_logit=GridSearchCV(estimator=model_logit, param_grid=parameters_logit,scoring='accuracy',cv=10)"
      ],
      "execution_count": 0,
      "outputs": []
    },
    {
      "cell_type": "code",
      "metadata": {
        "id": "-WEDV0iCSRB9",
        "colab_type": "code",
        "colab": {}
      },
      "source": [
        "grid_search_logit.fit(X_train,Y_train)"
      ],
      "execution_count": 0,
      "outputs": []
    },
    {
      "cell_type": "code",
      "metadata": {
        "id": "ffZl3gCcSs4k",
        "colab_type": "code",
        "outputId": "5da47964-4ebe-4e80-de89-20113c4b16d8",
        "colab": {
          "base_uri": "https://localhost:8080/",
          "height": 35
        }
      },
      "source": [
        "print(\"The best validation score achived was: \",grid_search_logit.best_score_)"
      ],
      "execution_count": 32,
      "outputs": [
        {
          "output_type": "stream",
          "text": [
            "The best validation score achived was:  0.9835680751173709\n"
          ],
          "name": "stdout"
        }
      ]
    },
    {
      "cell_type": "code",
      "metadata": {
        "id": "D2JJ015HSymY",
        "colab_type": "code",
        "colab": {}
      },
      "source": [
        "print(\"The above validation score was achieved under the parameters:\",grid_search_logit.best_params_)"
      ],
      "execution_count": 0,
      "outputs": []
    },
    {
      "cell_type": "code",
      "metadata": {
        "id": "KCmpqo9KS0gP",
        "colab_type": "code",
        "colab": {}
      },
      "source": [
        "prediction_logit_tuned=grid_search_logit.predict(X_test)\n",
        "print(\"Testing accuracy after tuning\" ,metrics.accuracy_score(prediction_logit_tuned,Y_test))"
      ],
      "execution_count": 0,
      "outputs": []
    }
  ]
}