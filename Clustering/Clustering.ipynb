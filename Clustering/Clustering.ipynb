{
  "nbformat": 4,
  "nbformat_minor": 0,
  "metadata": {
    "colab": {
      "name": "Clustering.ipynb",
      "provenance": [],
      "toc_visible": true
    },
    "kernelspec": {
      "name": "python3",
      "display_name": "Python 3"
    }
  },
  "cells": [
    {
      "cell_type": "code",
      "metadata": {
        "id": "iXQkRqbvOMgJ",
        "colab_type": "code",
        "colab": {}
      },
      "source": [
        "import numpy as np\n",
        "import pandas as pd\n",
        "import matplotlib.pyplot as plt \n"
      ],
      "execution_count": 0,
      "outputs": []
    },
    {
      "cell_type": "markdown",
      "metadata": {
        "id": "0T82s-1ctvbH",
        "colab_type": "text"
      },
      "source": [
        "# Load the data for Eruptions of Old Faithful, Yellowstone\n",
        "\n",
        "You can access the data here: https://app.quadstat.net/dataset/r-dataset-faithful"
      ]
    },
    {
      "cell_type": "code",
      "metadata": {
        "id": "0-18AtJ3tPoP",
        "colab_type": "code",
        "colab": {}
      },
      "source": [
        "dataset_df=pd.read_csv('Eruptions.csv')"
      ],
      "execution_count": 0,
      "outputs": []
    },
    {
      "cell_type": "code",
      "metadata": {
        "id": "GkF1rXpKuDYZ",
        "colab_type": "code",
        "colab": {}
      },
      "source": [
        "dataset_df.head(10)"
      ],
      "execution_count": 0,
      "outputs": []
    },
    {
      "cell_type": "code",
      "metadata": {
        "id": "73ShzTLbvl3G",
        "colab_type": "code",
        "colab": {}
      },
      "source": [
        "dataset_df.shape"
      ],
      "execution_count": 0,
      "outputs": []
    },
    {
      "cell_type": "markdown",
      "metadata": {
        "id": "9gsU9rn3KRAX",
        "colab_type": "text"
      },
      "source": [
        "# Calculate within cluster sum of square"
      ]
    },
    {
      "cell_type": "code",
      "metadata": {
        "id": "6oTiyyKjuHXY",
        "colab_type": "code",
        "colab": {}
      },
      "source": [
        "from sklearn.cluster import KMeans\n",
        "wcss = []\n",
        "for i in range(1, 11):\n",
        "    kmeans = KMeans(n_clusters = i, init = 'k-means++', random_state = 4)\n",
        "    kmeans.fit(dataset_df)\n",
        "    wcss.append(kmeans.inertia_)\n"
      ],
      "execution_count": 0,
      "outputs": []
    },
    {
      "cell_type": "code",
      "metadata": {
        "id": "hSemd23OMJNu",
        "colab_type": "code",
        "colab": {}
      },
      "source": [
        "fig, ax = plt.subplots(figsize=(6, 6))\n",
        "plt.plot(range(1, 11), wcss)\n",
        "plt.title('The Elbow Method')\n",
        "plt.xlabel('Number of clusters')\n",
        "plt.ylabel('WCSS')\n",
        "plt.show()"
      ],
      "execution_count": 0,
      "outputs": []
    },
    {
      "cell_type": "markdown",
      "metadata": {
        "id": "ztOoCd7zzoUf",
        "colab_type": "text"
      },
      "source": [
        "## From the figure above it is clear that K=2"
      ]
    },
    {
      "cell_type": "code",
      "metadata": {
        "id": "oumMdNb-w2Iw",
        "colab_type": "code",
        "colab": {}
      },
      "source": [
        "km = KMeans(n_clusters=2, max_iter=100,random_state=24)\n",
        "km.fit(dataset_df)\n",
        "centroids = km.cluster_centers_\n"
      ],
      "execution_count": 0,
      "outputs": []
    },
    {
      "cell_type": "code",
      "metadata": {
        "id": "Ue5skmjh7UYr",
        "colab_type": "code",
        "colab": {}
      },
      "source": [
        "dataset_np=np.array(dataset_df)"
      ],
      "execution_count": 0,
      "outputs": []
    },
    {
      "cell_type": "code",
      "metadata": {
        "id": "hLMdnKVA0pB2",
        "colab_type": "code",
        "colab": {}
      },
      "source": [
        "fig, ax = plt.subplots(figsize=(6, 6))\n",
        "plt.scatter(dataset_np[km.labels_== 0, 0], dataset_np[km.labels_ == 0, 1],c='green', label='cluster 1')\n",
        "plt.scatter(dataset_np[km.labels_ == 1, 0], dataset_np[km.labels_ == 1, 1],c='blue', label='cluster 2')\n",
        "plt.scatter(centroids[:, 0], centroids[:, 1], s=100,c = 'red', label = 'Centroids')\n",
        "plt.xlabel('Eruption time in mins')\n",
        "plt.ylabel('Waiting time to next eruption')\n",
        "plt.title('Visualization of clustered data', fontweight='bold')\n",
        "plt.legend()\n",
        "plt.show()\n"
      ],
      "execution_count": 0,
      "outputs": []
    },
    {
      "cell_type": "markdown",
      "metadata": {
        "id": "864Qpq7a8asb",
        "colab_type": "text"
      },
      "source": [
        "# hierarchical clustering"
      ]
    },
    {
      "cell_type": "code",
      "metadata": {
        "id": "enxVFr928Z2k",
        "colab_type": "code",
        "colab": {}
      },
      "source": [
        "import scipy.cluster.hierarchy as sch\n",
        "dendrogram = sch.dendrogram(sch.linkage(dataset_df, method = 'complete'))\n",
        "plt.title('Dendrogram')\n",
        "plt.xlabel('Data points')\n",
        "plt.ylabel('Euclidean distances')\n",
        "plt.show()"
      ],
      "execution_count": 0,
      "outputs": []
    },
    {
      "cell_type": "code",
      "metadata": {
        "id": "zhlkpox389Gu",
        "colab_type": "code",
        "colab": {}
      },
      "source": [
        "from sklearn.cluster import AgglomerativeClustering\n",
        "hc = AgglomerativeClustering(n_clusters = 2, affinity = 'euclidean', linkage = 'complete')\n",
        "y_hc = hc.fit_predict(dataset_df)"
      ],
      "execution_count": 0,
      "outputs": []
    },
    {
      "cell_type": "code",
      "metadata": {
        "id": "mMAyys7m9Z8U",
        "colab_type": "code",
        "colab": {}
      },
      "source": [
        "X=dataset_np"
      ],
      "execution_count": 0,
      "outputs": []
    },
    {
      "cell_type": "code",
      "metadata": {
        "id": "TbJD2FxG9XNe",
        "colab_type": "code",
        "colab": {}
      },
      "source": [
        "fig, ax = plt.subplots(figsize=(6, 6))\n",
        "plt.scatter(X[y_hc == 0, 0], X[y_hc == 0, 1], s = 100, c = 'red', label = 'Cluster 1')\n",
        "plt.scatter(X[y_hc == 1, 0], X[y_hc == 1, 1], s = 100, c = 'blue', label = 'Cluster 2')\n",
        "plt.title('Clusters of yellow stone gysers')\n",
        "plt.xlabel('duration of eruption')\n",
        "plt.ylabel('time until next eruption')\n",
        "plt.legend()\n",
        "plt.show()"
      ],
      "execution_count": 0,
      "outputs": []
    }
  ]
}